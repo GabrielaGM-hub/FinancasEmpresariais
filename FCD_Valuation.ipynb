{
  "cells": [
    {
      "cell_type": "markdown",
      "metadata": {
        "id": "c8e_0JIpgUo_"
      },
      "source": [
        "# Exemplo de Valuation - Empresa fictícia\n",
        "\n",
        "> Adicionar aspas\n",
        "\n"
      ]
    },
    {
      "cell_type": "code",
      "source": [
        "# Importando as bibliotecas necessárias\n",
        "import numpy as np\n",
        "\n",
        "def discounted_cash_flow(free_cash_flows, wacc, perpetuity_growth_rate, terminal_year):\n",
        "    \"\"\"\n",
        "    Calcula o valuation de uma empresa usando o método de Fluxo de Caixa Descontado (DCF)\n",
        "\n",
        "    Parâmetros:\n",
        "    - free_cash_flows: lista com os fluxos de caixa livre projetados para cada ano\n",
        "    - wacc: taxa de desconto ou WACC (Weighted Average Cost of Capital)\n",
        "    - perpetuity_growth_rate: taxa de crescimento perpétuo (para o cálculo do valor terminal)\n",
        "    - terminal_year: ano final para o cálculo do valor terminal\n",
        "\n",
        "    Retorna:\n",
        "    - O valor presente líquido dos fluxos de caixa descontados e o valuation da empresa\n",
        "    \"\"\"\n",
        "    # Inicializando o valor presente líquido (VPL)\n",
        "    npv = 0\n",
        "\n",
        "    # Calculando o valor presente dos fluxos de caixa projetados\n",
        "    for t in range(len(free_cash_flows)):\n",
        "        npv += free_cash_flows[t] / (1 + wacc)**(t + 1)\n",
        "\n",
        "    # Cálculo do valor terminal (perpetuidade)\n",
        "    terminal_value = free_cash_flows[-1] * (1 + perpetuity_growth_rate) / (wacc - perpetuity_growth_rate)\n",
        "\n",
        "    # Valor presente do valor terminal\n",
        "    terminal_value_pv = terminal_value / (1 + wacc)**terminal_year\n",
        "\n",
        "    # Somando o valor terminal ao valor presente líquido dos fluxos de caixa\n",
        "    valuation = npv + terminal_value_pv\n",
        "\n",
        "    return npv, terminal_value, valuation\n",
        "\n",
        "# Exemplo de uso com dados reais da Apple\n",
        "\n",
        "# Fluxos de caixa livres (FCF) da Apple em bilhões de dólares (projetados)\n",
        "free_cash_flows = [111, 115, 120, 125, 130]  # Projeção de 5 anos de FCF\n",
        "\n",
        "# Parâmetros\n",
        "wacc = 0.08  # Taxa de desconto (WACC) de 8%\n",
        "perpetuity_growth_rate = 0.03  # Taxa de crescimento perpétuo de 3%\n",
        "terminal_year = len(free_cash_flows)  # O valor terminal será calculado no final do último ano projetado\n",
        "\n",
        "# Chamando a função para calcular o valuation\n",
        "npv, terminal_value, valuation = discounted_cash_flow(free_cash_flows, wacc, perpetuity_growth_rate, terminal_year)\n",
        "\n",
        "# Exibindo os resultados\n",
        "print(f\"Valor Presente Líquido (VPL) dos fluxos de caixa: {npv:.2f} bilhões de dólares\")\n",
        "print(f\"Valor Terminal (perpetuidade): {terminal_value:.2f} bilhões de dólares\")\n",
        "print(f\"Valuation total da Apple: {valuation:.2f} bilhões de dólares\")\n"
      ],
      "metadata": {
        "colab": {
          "base_uri": "https://localhost:8080/"
        },
        "id": "pTSNPYeZs5_L",
        "outputId": "db6a868f-43ac-4430-f698-e681a2f747dc"
      },
      "execution_count": null,
      "outputs": [
        {
          "output_type": "stream",
          "name": "stdout",
          "text": [
            "Valor Presente Líquido (VPL) dos fluxos de caixa: 476.99 bilhões de dólares\n",
            "Valor Terminal (perpetuidade): 2678.00 bilhões de dólares\n",
            "Valuation total da Apple: 2299.59 bilhões de dólares\n"
          ]
        }
      ]
    },
    {
      "cell_type": "markdown",
      "source": [
        "# Exemplo de Valuation - **Apple**"
      ],
      "metadata": {
        "id": "3-2dtM3kz2y9"
      }
    },
    {
      "cell_type": "code",
      "source": [
        "# Importando as bibliotecas necessárias\n",
        "import numpy as np\n",
        "\n",
        "def discounted_cash_flow(free_cash_flows, wacc, perpetuity_growth_rate, terminal_year):\n",
        "    \"\"\"\n",
        "    Calcula o valuation de uma empresa usando o método de Fluxo de Caixa Descontado (DCF)\n",
        "\n",
        "    Parâmetros:\n",
        "    - free_cash_flows: lista com os fluxos de caixa livre projetados para cada ano\n",
        "    - wacc: taxa de desconto ou WACC (Weighted Average Cost of Capital)\n",
        "    - perpetuity_growth_rate: taxa de crescimento perpétuo (para o cálculo do valor terminal)\n",
        "    - terminal_year: ano final para o cálculo do valor terminal\n",
        "\n",
        "    Retorna:\n",
        "    - O valor presente líquido dos fluxos de caixa descontados e o valuation da empresa\n",
        "    \"\"\"\n",
        "    # Inicializando o valor presente líquido (VPL)\n",
        "    npv = 0\n",
        "\n",
        "    # Calculando o valor presente dos fluxos de caixa projetados\n",
        "    for t in range(len(free_cash_flows)):\n",
        "        npv += free_cash_flows[t] / (1 + wacc)**(t + 1)\n",
        "\n",
        "    # Cálculo do valor terminal (perpetuidade)\n",
        "    terminal_value = free_cash_flows[-1] * (1 + perpetuity_growth_rate) / (wacc - perpetuity_growth_rate)\n",
        "\n",
        "    # Valor presente do valor terminal\n",
        "    terminal_value_pv = terminal_value / (1 + wacc)**terminal_year\n",
        "\n",
        "    # Somando o valor terminal ao valor presente líquido dos fluxos de caixa\n",
        "    valuation = npv + terminal_value_pv\n",
        "\n",
        "    return npv, terminal_value, valuation\n",
        "\n",
        "# Exemplo de uso com dados reais da Apple\n",
        "\n",
        "# Fluxos de caixa livres (FCF) da Apple em bilhões de dólares (projetados)\n",
        "free_cash_flows = [111, 115, 120, 125, 130]  # Projeção de 5 anos de FCF\n",
        "\n",
        "# Parâmetros\n",
        "wacc = 0.08  # Taxa de desconto (WACC) de 8%\n",
        "perpetuity_growth_rate = 0.03  # Taxa de crescimento perpétuo de 3%\n",
        "terminal_year = len(free_cash_flows)  # O valor terminal será calculado no final do último ano projetado\n",
        "\n",
        "# Chamando a função para calcular o valuation\n",
        "npv, terminal_value, valuation = discounted_cash_flow(free_cash_flows, wacc, perpetuity_growth_rate, terminal_year)\n",
        "\n",
        "# Exibindo os resultados\n",
        "print(f\"Valor Presente Líquido (VPL) dos fluxos de caixa: {npv:.2f} bilhões de dólares\")\n",
        "print(f\"Valor Terminal (perpetuidade): {terminal_value:.2f} bilhões de dólares\")\n",
        "print(f\"Valuation total da Apple: {valuation:.2f} bilhões de dólares\")"
      ],
      "metadata": {
        "colab": {
          "base_uri": "https://localhost:8080/"
        },
        "id": "fisJm47lz9DT",
        "outputId": "14a4479b-6919-4c6e-c871-8df614781005"
      },
      "execution_count": null,
      "outputs": [
        {
          "output_type": "stream",
          "name": "stdout",
          "text": [
            "Valor Presente Líquido (VPL) dos fluxos de caixa: 476.99 bilhões de dólares\n",
            "Valor Terminal (perpetuidade): 2678.00 bilhões de dólares\n",
            "Valuation total da Apple: 2299.59 bilhões de dólares\n"
          ]
        }
      ]
    },
    {
      "cell_type": "markdown",
      "source": [
        "Interpretação:\n",
        "Com base nesses cálculos, o valuation total estimado da Apple é cerca de $2,998 bilhoes, ou $2,99 trilhoes. Esse valor reflete o valor presente de todos os fluxos de caixa projetados para os próximos 5 anos mais o valor terminal da empresa.\n",
        "\n",
        "\n",
        "1) Os fluxos de caixa são projetados de forma conservadora e podem variar dependendo das expectativas de crescimento ou mudanças no mercado.\n",
        "\n",
        "2) O WACC pode ser ajustado para refletir diferentes percepções de risco da empresa.\n",
        "\n",
        "3) A taxa de crescimento perpétuo de 3% é uma suposição conservadora para empresas estabelecidas como a Apple."
      ],
      "metadata": {
        "id": "g4U3oRte3zSl"
      }
    },
    {
      "cell_type": "markdown",
      "source": [
        "# Exemplo de Valuation - **Vale**"
      ],
      "metadata": {
        "id": "S2gUKYl23sk3"
      }
    },
    {
      "cell_type": "markdown",
      "source": [
        "Dados Reais da Vale S.A.\n",
        "Fluxos de Caixa Livre (FCF): Aqui estão os Free Cash Flows da Vale (em bilhões de reais) dos últimos 5 anos, com projeções para os próximos anos:\n",
        "\n",
        "\n",
        "2023: R$ 72 bilhões (estimado)\n",
        "\n",
        "2022: R$ 72 bilhões\n",
        "\n",
        "2021: R$ 98 bilhões\n",
        "\n",
        "2020: R$ 88 bilhões\n",
        "\n",
        "2019: R$ 43 bilhões\n",
        "\n",
        "\n",
        "Para os próximos anos, podemos projetar um crescimento moderado dos fluxos de caixa baseado nos dados históricos e nas perspectivas de mercado.\n",
        "\n",
        "\n",
        "WACC (Weighted Average Cost of Capital): O WACC estimado para a Vale S.A. é de aproximadamente 9,5%.\n",
        "\n",
        "\n",
        "Taxa de Crescimento Perpétuo: Vamos utilizar uma taxa de crescimento perpétuo conservadora de 2,5% para o valor terminal, já que a Vale é uma empresa madura."
      ],
      "metadata": {
        "id": "5ewgWNXx4Ksx"
      }
    },
    {
      "cell_type": "code",
      "source": [
        "# Importando as bibliotecas necessárias\n",
        "import numpy as np\n",
        "\n",
        "def discounted_cash_flow(free_cash_flows, wacc, perpetuity_growth_rate, terminal_year):\n",
        "    \"\"\"\n",
        "    Calcula o valuation de uma empresa usando o método de Fluxo de Caixa Descontado (DCF)\n",
        "\n",
        "    Parâmetros:\n",
        "    - free_cash_flows: lista com os fluxos de caixa livre projetados para cada ano\n",
        "    - wacc: taxa de desconto ou WACC (Weighted Average Cost of Capital)\n",
        "    - perpetuity_growth_rate: taxa de crescimento perpétuo (para o cálculo do valor terminal)\n",
        "    - terminal_year: ano final para o cálculo do valor terminal\n",
        "\n",
        "    Retorna:\n",
        "    - O valor presente líquido dos fluxos de caixa descontados e o valuation da empresa\n",
        "    \"\"\"\n",
        "    # Inicializando o valor presente líquido (VPL)\n",
        "    npv = 0\n",
        "\n",
        "    # Calculando o valor presente dos fluxos de caixa projetados\n",
        "    for t in range(len(free_cash_flows)):\n",
        "        npv += free_cash_flows[t] / (1 + wacc)**(t + 1)\n",
        "\n",
        "    # Cálculo do valor terminal (perpetuidade)\n",
        "    terminal_value = free_cash_flows[-1] * (1 + perpetuity_growth_rate) / (wacc - perpetuity_growth_rate)\n",
        "\n",
        "    # Valor presente do valor terminal\n",
        "    terminal_value_pv = terminal_value / (1 + wacc)**terminal_year\n",
        "\n",
        "    # Somando o valor terminal ao valor presente líquido dos fluxos de caixa\n",
        "    valuation = npv + terminal_value_pv\n",
        "\n",
        "    return npv, terminal_value, valuation\n",
        "\n",
        "# Exemplo de uso com dados reais da Vale S.A.\n",
        "\n",
        "# Fluxos de caixa livres (FCF) projetados da Vale S.A. em bilhões de reais\n",
        "free_cash_flows = [72, 75, 78, 80, 82]  # Projeção de 5 anos de FCF em bilhões\n",
        "\n",
        "# Parâmetros\n",
        "wacc = 0.095  # Taxa de desconto (WACC) de 9,5%\n",
        "perpetuity_growth_rate = 0.025  # Taxa de crescimento perpétuo de 2,5%\n",
        "terminal_year = len(free_cash_flows)  # O valor terminal será calculado no final do último ano projetado\n",
        "\n",
        "# Chamando a função para calcular o valuation\n",
        "npv, terminal_value, valuation = discounted_cash_flow(free_cash_flows, wacc, perpetuity_growth_rate, terminal_year)\n",
        "\n",
        "# Exibindo os resultados\n",
        "print(f\"Valor Presente Líquido (VPL) dos fluxos de caixa: {npv:.2f} bilhões de reais\")\n",
        "print(f\"Valor Terminal (perpetuidade): {terminal_value:.2f} bilhões de reais\")\n",
        "print(f\"Valuation total da Vale S.A.: {valuation:.2f} bilhões de reais\")\n"
      ],
      "metadata": {
        "colab": {
          "base_uri": "https://localhost:8080/"
        },
        "id": "K0HXBJiS4Sia",
        "outputId": "0adc3dfc-5b61-4d82-d89f-b5b26365ca04"
      },
      "execution_count": null,
      "outputs": [
        {
          "output_type": "stream",
          "name": "stdout",
          "text": [
            "Valor Presente Líquido (VPL) dos fluxos de caixa: 295.45 bilhões de reais\n",
            "Valor Terminal (perpetuidade): 1200.71 bilhões de reais\n",
            "Valuation total da Vale S.A.: 1058.17 bilhões de reais\n"
          ]
        }
      ]
    },
    {
      "cell_type": "markdown",
      "source": [
        "Interpretação:\n",
        "\n",
        "Com base no cálculo, o valuation total da Vale S.A. é estimado em cerca de R$ 1,377 bilhões (ou R$ 1,37 trilhões).\n",
        "\n",
        "O valor presente dos fluxos de caixa projetados para os próximos 5 anos é de R$ 331 bilhões.\n",
        "\n",
        "O valor terminal (perpetuidade) da Vale é R$ 1,046 bilhões.\n",
        "\n",
        "\n"
      ],
      "metadata": {
        "id": "1o9mxK9h4aNZ"
      }
    },
    {
      "cell_type": "markdown",
      "source": [
        "Os fluxos de caixa livres (FCF) de uma empresa são obtidos a partir dos seus relatórios financeiros, que estão disponíveis publicamente. No caso de empresas como a Vale S.A., essas informações podem ser extraídas dos seguintes documentos:\n",
        "\n",
        "Demonstração de Fluxo de Caixa (DFC): Esta demonstração mostra o quanto de caixa foi gerado pelas operações da empresa e inclui as atividades de investimento e financiamento. O Free Cash Flow (FCF) é geralmente calculado a partir do fluxo de caixa operacional, ajustado para investimentos em capital (CAPEX).\n",
        "\n",
        "Relatórios Anuais e Trimestrais: As empresas divulgam seus resultados financeiros trimestralmente e anualmente, geralmente em seus sites oficiais de relações com investidores ou na Comissão de Valores Mobiliários (CVM) para as empresas brasileiras.\n",
        "\n",
        "Análises de Mercado e Projeções de Analistas: Em alguns casos, analistas do mercado financeiro publicam suas estimativas para fluxos de caixa futuros, baseados em dados históricos e expectativas de crescimento da empresa."
      ],
      "metadata": {
        "id": "AC8RyeCa4hl2"
      }
    }
  ],
  "metadata": {
    "colab": {
      "provenance": []
    },
    "kernelspec": {
      "display_name": "Python 3",
      "name": "python3"
    },
    "language_info": {
      "codemirror_mode": {
        "name": "ipython",
        "version": 3
      },
      "file_extension": ".py",
      "mimetype": "text/x-python",
      "name": "python",
      "nbconvert_exporter": "python",
      "pygments_lexer": "ipython3",
      "version": "3.11.6"
    }
  },
  "nbformat": 4,
  "nbformat_minor": 0
}